{
 "cells": [
  {
   "cell_type": "markdown",
   "metadata": {},
   "source": [
    "##### GEOIP DB\n",
    "\n",
    "[GEOIP DB](https://geoip-db.com/)\n",
    "\n",
    "Find out the geographic location of your website's visitor by IP address. Identify the location, country, city, hostname, network owner and other characteristics of your Internet users by IP Geolocation."
   ]
  },
  {
   "cell_type": "code",
   "execution_count": 1,
   "metadata": {},
   "outputs": [],
   "source": [
    "import pandas as pd\n",
    "import numpy as np\n",
    "import os\n",
    "import urllib.request\n",
    "import json\n",
    "\n",
    "pd.set_option('display.max_columns', 200)\n",
    "df = pd.read_csv('./tables/user.csv', sep=',')\n",
    "df"
   ]
  },
  {
   "cell_type": "code",
   "execution_count": 2,
   "metadata": {},
   "outputs": [],
   "source": [
    "# expand columns by ip\n",
    "columns = ['Current sign in ip', 'Last sign in ip']\n",
    "fields = ['country_code', 'country_name', 'city', 'postal', 'latitude', 'longitude', 'state']\n",
    "for column in columns:\n",
    "    lists = {}\n",
    "    for field in fields:\n",
    "        lists[field] = []\n",
    "    for ip in df[column][::-1]:\n",
    "        with urllib.request.urlopen(\"https://geoip-db.com/jsonp/%s\" % ip) as url:\n",
    "            data = json.loads(url.read().decode().split(\"(\")[1].strip(\")\"))\n",
    "            for field in fields:\n",
    "                lists[field].append(data[field])\n",
    "    for field in fields:\n",
    "        df[\"%s [%s]\" % (field, column)] = pd.Series(lists[field]).values\n",
    "df.to_csv('./tables/user.csv', encoding='utf-8', index=False)\n",
    "df"
   ]
  },
  {
   "cell_type": "code",
   "execution_count": null,
   "metadata": {},
   "outputs": [],
   "source": []
  }
 ],
 "metadata": {
  "kernelspec": {
   "display_name": "Python 3",
   "language": "python",
   "name": "python3"
  },
  "language_info": {
   "codemirror_mode": {
    "name": "ipython",
    "version": 3
   },
   "file_extension": ".py",
   "mimetype": "text/x-python",
   "name": "python",
   "nbconvert_exporter": "python",
   "pygments_lexer": "ipython3",
   "version": "3.6.4"
  }
 },
 "nbformat": 4,
 "nbformat_minor": 2
}
